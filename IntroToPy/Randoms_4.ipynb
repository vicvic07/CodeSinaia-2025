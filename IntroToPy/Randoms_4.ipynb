{
 "cells": [
  {
   "cell_type": "markdown",
   "id": "f937cd60",
   "metadata": {},
   "source": [
    "This notebook loads the Randoms data set and generates various charts using _Matplotlib_."
   ]
  },
  {
   "cell_type": "code",
   "execution_count": null,
   "id": "6c1aef92",
   "metadata": {},
   "outputs": [],
   "source": [
    "from Randoms_2 import load_randoms\n",
    "import matplotlib.pyplot as plt\n",
    "import statistics"
   ]
  },
  {
   "cell_type": "markdown",
   "id": "39ed1c18",
   "metadata": {},
   "source": [
    "Load data set in _randoms_map_, which is associating each random value (key) with the list of indexes (value) where it was generated."
   ]
  },
  {
   "cell_type": "code",
   "execution_count": null,
   "id": "11318d06",
   "metadata": {},
   "outputs": [],
   "source": [
    "randoms_map, count = load_randoms(\"randoms_db.txt\")\n",
    "print(f\"Loaded {len(randoms_map.keys())} unique random generated in a sequence of {count} iterations\")"
   ]
  },
  {
   "cell_type": "markdown",
   "id": "88b6c750",
   "metadata": {},
   "source": [
    "Generate a bar chart, showing for each random value (X-axis) the number of times it occurred (Y-axis) in the generated sequence."
   ]
  },
  {
   "cell_type": "code",
   "execution_count": null,
   "id": "48c790ab",
   "metadata": {},
   "outputs": [],
   "source": [
    "plt.figure(figsize=(8, 4))\n",
    "plt.title(\"Bar chart of randoms (x) and their counts (y)\")\n",
    "plt.xlabel(\"value\")\n",
    "plt.ylabel(\"count\")\n",
    "plt.bar(randoms_map.keys(), [len(indexes) for indexes in randoms_map.values()])"
   ]
  },
  {
   "cell_type": "markdown",
   "id": "01906abe",
   "metadata": {},
   "source": [
    "Create a plot chart linking the points associating each iteration (X-axis) with the random value that was generated at that iteration."
   ]
  },
  {
   "cell_type": "code",
   "execution_count": null,
   "id": "e76947d5",
   "metadata": {},
   "outputs": [],
   "source": [
    "iterations = []\n",
    "for random_value in randoms_map.keys():\n",
    "    for index in randoms_map[random_value]:\n",
    "        iterations.append({\"index\":index, \"value\":random_value})\n",
    "# iterations = [{\"index\":i, \"value\":random_value} for random_value in randoms_map.keys() for i in randoms_map[random_value]]\n",
    "iterations.sort(key= lambda iteration: iteration[\"index\"])\n",
    "plt.figure(figsize=(8, 4))\n",
    "plt.title(\"Plot chart of iterations (x) and the random value at that iteration (y)\")\n",
    "plt.xlabel(\"iteration\")\n",
    "plt.ylabel(\"value\")\n",
    "plt.plot([iteration[\"index\"] for iteration in iterations], [iteration[\"value\"] for iteration in iterations]);"
   ]
  },
  {
   "cell_type": "markdown",
   "id": "988a5c79",
   "metadata": {},
   "source": [
    "Create a boxplot (whiskers) chart showing the quantile distribution of randoms across their entire range: how many fall into the first 25%, 50% (median), 75% and 100% (maximum). The box is configured to cover the entire range, otherwise it would focus on the IQR (Inter Quartile Range) and display outliars as dots. We want the simplest respresentation."
   ]
  },
  {
   "cell_type": "code",
   "execution_count": null,
   "id": "b54db2fc",
   "metadata": {},
   "outputs": [],
   "source": [
    "plt.figure(figsize=(4, 6))\n",
    "plt.title(\"Distribution of random values\")\n",
    "plt.ylabel(\"values distribution\")\n",
    "all_randoms = [iteration[\"value\"] for iteration in iterations]\n",
    "plt.boxplot(all_randoms, whis=[0, 100]);\n",
    "# print min, median and max\n",
    "print(f\"Min random: {min(all_randoms)}\")\n",
    "print(f\"Median random: {statistics.median(all_randoms)}\")\n",
    "print(f\"Max random: {max(all_randoms)}\")\n"
   ]
  }
 ],
 "metadata": {
  "kernelspec": {
   "display_name": "Python 3",
   "language": "python",
   "name": "python3"
  },
  "language_info": {
   "codemirror_mode": {
    "name": "ipython",
    "version": 3
   },
   "file_extension": ".py",
   "mimetype": "text/x-python",
   "name": "python",
   "nbconvert_exporter": "python",
   "pygments_lexer": "ipython3",
   "version": "3.13.5"
  }
 },
 "nbformat": 4,
 "nbformat_minor": 5
}
