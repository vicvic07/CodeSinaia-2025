{
 "cells": [
  {
   "cell_type": "markdown",
   "id": "4344793e",
   "metadata": {},
   "source": [
    "This notebook loads a data set of random numbers and prints various statistics."
   ]
  },
  {
   "cell_type": "code",
   "execution_count": 3,
   "id": "6eb56257",
   "metadata": {},
   "outputs": [],
   "source": [
    "from Randoms_2 import load_randoms\n",
    "import statistics"
   ]
  },
  {
   "cell_type": "markdown",
   "id": "29656d3a",
   "metadata": {},
   "source": [
    "Read the text file \"randoms_db.txt\" where each line is a random value followed by the indexes where it occurred. Note that unlike a regular py script which is running in the VSCode workspace folder, ipynb files are running in the folder where it resides. Hence the dataset file is referenced relative to that."
   ]
  },
  {
   "cell_type": "code",
   "execution_count": null,
   "id": "4fee425f",
   "metadata": {},
   "outputs": [],
   "source": [
    "randoms_map, count = load_randoms(\"randoms_db.txt\")\n",
    "print(f\"Loaded {len(randoms_map.keys())} unique random generated in a sequence of {count} iterations\")"
   ]
  },
  {
   "cell_type": "markdown",
   "id": "3796d55f",
   "metadata": {},
   "source": [
    "Print a few statistics: min, max random values,  mean, median(aka average) and standard deviation (aka stdev) of the sequence."
   ]
  },
  {
   "cell_type": "code",
   "execution_count": null,
   "id": "864b67fa",
   "metadata": {},
   "outputs": [],
   "source": [
    "print(f\"Count of unique randoms: {len(randoms_map.keys())}\")\n",
    "sorted_randoms = sorted(randoms_map.keys())\n",
    "print(f\"Min random: {sorted_randoms[0]}; Max random: {sorted_randoms[-1]}\")\n",
    "print(f\"Mean of the sequence: {statistics.mean(randoms_map.keys())}\")\n",
    "print(f\"Median of the sequence: {statistics.median(randoms_map.keys())}\")\n",
    "print(f\"Standard Deviation of the sequence: {statistics.stdev(sorted_randoms)}\")"
   ]
  },
  {
   "cell_type": "markdown",
   "id": "39ce53eb",
   "metadata": {},
   "source": [
    "Read from the input the desired topN count of most frequent randoms that should be printed.\n",
    "Then, store in an array all the randoms along with their individual count. Each entry in the array is an object with two fields:\n",
    "- _value_: the random value\n",
    "- _count_: the value's frequency or count of occurrences in the sequence. \n",
    "In the end the array is sorted in the descending order of each object's _count_ value and the first topN are printed out."
   ]
  },
  {
   "cell_type": "code",
   "execution_count": 2,
   "id": "7aeb2cbc",
   "metadata": {},
   "outputs": [
    {
     "ename": "NameError",
     "evalue": "name 'randoms_map' is not defined",
     "output_type": "error",
     "traceback": [
      "\u001b[31m---------------------------------------------------------------------------\u001b[39m",
      "\u001b[31mNameError\u001b[39m                                 Traceback (most recent call last)",
      "\u001b[36mCell\u001b[39m\u001b[36m \u001b[39m\u001b[32mIn[2]\u001b[39m\u001b[32m, line 3\u001b[39m\n\u001b[32m      1\u001b[39m topN = \u001b[38;5;28mint\u001b[39m(\u001b[38;5;28minput\u001b[39m(\u001b[33m\"\u001b[39m\u001b[33mCount of most frequent numbers?> \u001b[39m\u001b[33m\"\u001b[39m))\n\u001b[32m      2\u001b[39m randoms_array = []\n\u001b[32m----> \u001b[39m\u001b[32m3\u001b[39m \u001b[38;5;28;01mfor\u001b[39;00m random_value \u001b[38;5;129;01min\u001b[39;00m \u001b[43mrandoms_map\u001b[49m.keys():\n\u001b[32m      4\u001b[39m     randoms_array.append({\u001b[33m\"\u001b[39m\u001b[33mvalue\u001b[39m\u001b[33m\"\u001b[39m : random_value, \u001b[33m\"\u001b[39m\u001b[33mcount\u001b[39m\u001b[33m\"\u001b[39m : \u001b[38;5;28mlen\u001b[39m(randoms_map[random_value])}) \n\u001b[32m      5\u001b[39m randoms_array.sort(key=\u001b[38;5;28;01mlambda\u001b[39;00m x: x[\u001b[33m\"\u001b[39m\u001b[33mcount\u001b[39m\u001b[33m\"\u001b[39m], reverse=\u001b[38;5;28;01mTrue\u001b[39;00m)\n",
      "\u001b[31mNameError\u001b[39m: name 'randoms_map' is not defined"
     ]
    }
   ],
   "source": [
    "topN = int(input(\"Count of most frequent numbers?> \"))\n",
    "randoms_array = []\n",
    "for random_value in randoms_map.keys():\n",
    "    randoms_array.append({\"value\" : random_value, \"count\" : len(randoms_map[random_value])}) \n",
    "randoms_array.sort(key=lambda x: x[\"count\"], reverse=True)"
   ]
  },
  {
   "cell_type": "markdown",
   "id": "cfe877da",
   "metadata": {},
   "source": [
    "Use a lambda expresion to map the first _topN_ objects from the sorted array to a string showing a random value and the count of its occurrences in the sequence. \n",
    "Join these strings together, each a new line, then print the resulting text."
   ]
  },
  {
   "cell_type": "code",
   "execution_count": null,
   "id": "c4aceec9",
   "metadata": {},
   "outputs": [],
   "source": [
    "lines = [\n",
    "    f'random {r[\"value\"]} occurred {r[\"count\"]} times'\n",
    "    for r in randoms_array[:topN]\n",
    "]\n",
    "print(\"\\n\".join(lines))"
   ]
  }
 ],
 "metadata": {
  "kernelspec": {
   "display_name": "Python 3",
   "language": "python",
   "name": "python3"
  },
  "language_info": {
   "codemirror_mode": {
    "name": "ipython",
    "version": 3
   },
   "file_extension": ".py",
   "mimetype": "text/x-python",
   "name": "python",
   "nbconvert_exporter": "python",
   "pygments_lexer": "ipython3",
   "version": "3.13.5"
  }
 },
 "nbformat": 4,
 "nbformat_minor": 5
}
